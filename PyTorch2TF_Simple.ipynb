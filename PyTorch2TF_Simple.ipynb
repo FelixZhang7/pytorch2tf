{
 "cells": [
  {
   "cell_type": "markdown",
   "metadata": {},
   "source": [
    "# Convert simple NN model from PyTorch to TensorFlow"
   ]
  },
  {
   "cell_type": "markdown",
   "metadata": {},
   "source": [
    "## Import libraries"
   ]
  },
  {
   "cell_type": "code",
   "execution_count": 1,
   "metadata": {},
   "outputs": [
    {
     "name": "stdout",
     "output_type": "stream",
     "text": [
      "WARNING:tensorflow:From c:\\users\\thefo\\documents\\git_repos\\pytorch2tf\\pytorch2tf-env\\lib\\site-packages\\onnx_tf\\handlers\\backend\\ceil.py:10: The name tf.ceil is deprecated. Please use tf.math.ceil instead.\n",
      "\n",
      "WARNING:tensorflow:From c:\\users\\thefo\\documents\\git_repos\\pytorch2tf\\pytorch2tf-env\\lib\\site-packages\\onnx_tf\\handlers\\backend\\depth_to_space.py:12: The name tf.depth_to_space is deprecated. Please use tf.compat.v1.depth_to_space instead.\n",
      "\n",
      "WARNING:tensorflow:From c:\\users\\thefo\\documents\\git_repos\\pytorch2tf\\pytorch2tf-env\\lib\\site-packages\\onnx_tf\\handlers\\backend\\erf.py:9: The name tf.erf is deprecated. Please use tf.math.erf instead.\n",
      "\n",
      "WARNING:tensorflow:\n",
      "The TensorFlow contrib module will not be included in TensorFlow 2.0.\n",
      "For more information, please see:\n",
      "  * https://github.com/tensorflow/community/blob/master/rfcs/20180907-contrib-sunset.md\n",
      "  * https://github.com/tensorflow/addons\n",
      "  * https://github.com/tensorflow/io (for I/O related ops)\n",
      "If you depend on functionality not listed there, please file an issue.\n",
      "\n"
     ]
    },
    {
     "name": "stderr",
     "output_type": "stream",
     "text": [
      "c:\\users\\thefo\\documents\\git_repos\\pytorch2tf\\pytorch2tf-env\\lib\\site-packages\\onnx_tf\\common\\__init__.py:89: UserWarning: onnx_tf.common.get_outputs_names is deprecated. It will be removed in future release. Use TensorflowGraph.get_outputs_names instead.\n",
      "  warnings.warn(message)\n"
     ]
    },
    {
     "name": "stdout",
     "output_type": "stream",
     "text": [
      "WARNING:tensorflow:From c:\\users\\thefo\\documents\\git_repos\\pytorch2tf\\pytorch2tf-env\\lib\\site-packages\\onnx_tf\\handlers\\backend\\is_nan.py:9: The name tf.is_nan is deprecated. Please use tf.math.is_nan instead.\n",
      "\n",
      "WARNING:tensorflow:From c:\\users\\thefo\\documents\\git_repos\\pytorch2tf\\pytorch2tf-env\\lib\\site-packages\\onnx_tf\\handlers\\backend\\log.py:10: The name tf.log is deprecated. Please use tf.math.log instead.\n",
      "\n",
      "WARNING:tensorflow:From c:\\users\\thefo\\documents\\git_repos\\pytorch2tf\\pytorch2tf-env\\lib\\site-packages\\onnx_tf\\handlers\\backend\\random_normal.py:9: The name tf.random_normal is deprecated. Please use tf.random.normal instead.\n",
      "\n",
      "WARNING:tensorflow:From c:\\users\\thefo\\documents\\git_repos\\pytorch2tf\\pytorch2tf-env\\lib\\site-packages\\onnx_tf\\handlers\\backend\\random_uniform.py:9: The name tf.random_uniform is deprecated. Please use tf.random.uniform instead.\n",
      "\n",
      "WARNING:tensorflow:From c:\\users\\thefo\\documents\\git_repos\\pytorch2tf\\pytorch2tf-env\\lib\\site-packages\\onnx_tf\\handlers\\backend\\reciprocal.py:10: The name tf.reciprocal is deprecated. Please use tf.math.reciprocal instead.\n",
      "\n",
      "WARNING:tensorflow:From c:\\users\\thefo\\documents\\git_repos\\pytorch2tf\\pytorch2tf-env\\lib\\site-packages\\onnx_tf\\handlers\\backend\\space_to_depth.py:12: The name tf.space_to_depth is deprecated. Please use tf.compat.v1.space_to_depth instead.\n",
      "\n",
      "WARNING:tensorflow:From c:\\users\\thefo\\documents\\git_repos\\pytorch2tf\\pytorch2tf-env\\lib\\site-packages\\onnx_tf\\handlers\\backend\\upsample.py:15: The name tf.image.resize_images is deprecated. Please use tf.image.resize instead.\n",
      "\n",
      "WARNING:tensorflow:From c:\\users\\thefo\\documents\\git_repos\\pytorch2tf\\pytorch2tf-env\\lib\\site-packages\\onnx_tf\\handlers\\backend\\xor.py:10: The name tf.logical_xor is deprecated. Please use tf.math.logical_xor instead.\n",
      "\n"
     ]
    }
   ],
   "source": [
    "import numpy as np\n",
    "\n",
    "import os\n",
    "import time\n",
    "import torch\n",
    "import torch.nn as nn\n",
    "import torch.optim as optim\n",
    "from torch.utils.data import Dataset, DataLoader\n",
    "import onnx\n",
    "from onnx_tf.backend import prepare\n",
    "import tensorflow as tf"
   ]
  },
  {
   "cell_type": "markdown",
   "metadata": {},
   "source": [
    "## Generate simulated data"
   ]
  },
  {
   "cell_type": "code",
   "execution_count": 2,
   "metadata": {},
   "outputs": [
    {
     "name": "stdout",
     "output_type": "stream",
     "text": [
      "Shape of X_train: (8000, 20)\n",
      "Shape of X_train: (2000, 20)\n",
      "Shape of y_train: (8000,)\n",
      "Shape of y_test: (2000,)\n"
     ]
    }
   ],
   "source": [
    "train_size = 8000\n",
    "test_size = 2000\n",
    "\n",
    "input_size = 20\n",
    "hidden_sizes = [50, 50]\n",
    "output_size = 1\n",
    "num_classes = 2\n",
    "\n",
    "X_train = np.random.randn(train_size, input_size).astype(np.float32)\n",
    "X_test = np.random.randn(test_size, input_size).astype(np.float32)\n",
    "y_train = np.random.randint(num_classes, size=train_size)\n",
    "y_test = np.random.randint(num_classes, size=test_size)\n",
    "print('Shape of X_train:', X_train.shape)\n",
    "print('Shape of X_train:', X_test.shape)\n",
    "print('Shape of y_train:', y_train.shape)\n",
    "print('Shape of y_test:', y_test.shape)"
   ]
  },
  {
   "cell_type": "markdown",
   "metadata": {},
   "source": [
    "Define `Dataset` subclass to facilitate batch training"
   ]
  },
  {
   "cell_type": "code",
   "execution_count": 3,
   "metadata": {},
   "outputs": [],
   "source": [
    "class SimpleDataset(Dataset):\n",
    "    def __init__(self, X, y):\n",
    "        self.X = X\n",
    "        self.y = y\n",
    "        \n",
    "    def __len__(self):\n",
    "        return len(self.X)\n",
    "    \n",
    "    def __getitem__(self, idx):\n",
    "        return self.X[idx], self.y[idx]"
   ]
  },
  {
   "cell_type": "markdown",
   "metadata": {},
   "source": [
    "Create DataLoaders for training and test set, for batch training and evaluation"
   ]
  },
  {
   "cell_type": "code",
   "execution_count": 4,
   "metadata": {},
   "outputs": [],
   "source": [
    "train_loader = DataLoader(dataset=SimpleDataset(X_train, y_train), batch_size=8, shuffle=True)\n",
    "test_loader = DataLoader(dataset=SimpleDataset(X_test, y_test), batch_size=8, shuffle=False)"
   ]
  },
  {
   "cell_type": "markdown",
   "metadata": {},
   "source": [
    "## Train and test model in PyTorch"
   ]
  },
  {
   "cell_type": "markdown",
   "metadata": {},
   "source": [
    "Build model"
   ]
  },
  {
   "cell_type": "code",
   "execution_count": 5,
   "metadata": {},
   "outputs": [],
   "source": [
    "class SimpleModel(nn.Module):\n",
    "    def __init__(self, input_size, hidden_sizes, output_size):\n",
    "        super(SimpleModel, self).__init__()\n",
    "        self.input_size = input_size\n",
    "        self.output_size = output_size\n",
    "        self.fcs = []  # List of fully connected layers\n",
    "        in_size = input_size\n",
    "        \n",
    "        for i, next_size in enumerate(hidden_sizes):\n",
    "            fc = nn.Linear(in_features=in_size, out_features=next_size)\n",
    "            in_size = next_size\n",
    "            self.__setattr__('fc{}'.format(i), fc)  # set name for each fullly connected layer\n",
    "            self.fcs.append(fc)\n",
    "            \n",
    "        self.last_fc = nn.Linear(in_features=in_size, out_features=output_size)\n",
    "        \n",
    "    def forward(self, x):\n",
    "        for i, fc in enumerate(self.fcs):\n",
    "            x = fc(x)\n",
    "            x = nn.ReLU()(x)\n",
    "        out = self.last_fc(x)\n",
    "        return nn.Sigmoid()(out)"
   ]
  },
  {
   "cell_type": "markdown",
   "metadata": {},
   "source": [
    "Set device to be used"
   ]
  },
  {
   "cell_type": "code",
   "execution_count": 6,
   "metadata": {},
   "outputs": [
    {
     "name": "stdout",
     "output_type": "stream",
     "text": [
      "Device used: cpu\n"
     ]
    }
   ],
   "source": [
    "device = torch.device('cuda' if torch.cuda.is_available() else 'cpu')\n",
    "print('Device used:', device)\n",
    "model_pytorch = SimpleModel(input_size=input_size, hidden_sizes=hidden_sizes, output_size=output_size)\n",
    "model_pytorch = model_pytorch.to(device)"
   ]
  },
  {
   "cell_type": "code",
   "execution_count": 7,
   "metadata": {},
   "outputs": [
    {
     "name": "stdout",
     "output_type": "stream",
     "text": [
      "SimpleModel(\n",
      "  (fc0): Linear(in_features=20, out_features=50, bias=True)\n",
      "  (fc1): Linear(in_features=50, out_features=50, bias=True)\n",
      "  (last_fc): Linear(in_features=50, out_features=1, bias=True)\n",
      ")\n"
     ]
    }
   ],
   "source": [
    "print(model_pytorch)"
   ]
  },
  {
   "cell_type": "markdown",
   "metadata": {},
   "source": [
    "Set loss and optimizer"
   ]
  },
  {
   "cell_type": "code",
   "execution_count": 8,
   "metadata": {},
   "outputs": [],
   "source": [
    "# Set binary cross entropy loss since 2 classes only\n",
    "criterion = nn.BCELoss()\n",
    "optimizer = optim.Adam(model_pytorch.parameters(), lr=1e-3)"
   ]
  },
  {
   "cell_type": "markdown",
   "metadata": {},
   "source": [
    "Train model"
   ]
  },
  {
   "cell_type": "code",
   "execution_count": 9,
   "metadata": {},
   "outputs": [
    {
     "name": "stderr",
     "output_type": "stream",
     "text": [
      "c:\\users\\thefo\\documents\\git_repos\\pytorch2tf\\pytorch2tf-env\\lib\\site-packages\\torch\\nn\\modules\\loss.py:498: UserWarning: Using a target size (torch.Size([8])) that is different to the input size (torch.Size([8, 1])) is deprecated. Please ensure they have the same size.\n",
      "  return F.binary_cross_entropy(input, target, weight=self.weight, reduction=self.reduction)\n"
     ]
    },
    {
     "name": "stdout",
     "output_type": "stream",
     "text": [
      "Epoch 1 completed. Train loss is 0.695\n",
      "Epoch 2 completed. Train loss is 0.691\n",
      "Epoch 3 completed. Train loss is 0.688\n",
      "Epoch 4 completed. Train loss is 0.685\n",
      "Epoch 5 completed. Train loss is 0.680\n",
      "Epoch 6 completed. Train loss is 0.675\n",
      "Epoch 7 completed. Train loss is 0.668\n",
      "Epoch 8 completed. Train loss is 0.660\n",
      "Epoch 9 completed. Train loss is 0.653\n",
      "Epoch 10 completed. Train loss is 0.644\n",
      "Epoch 11 completed. Train loss is 0.636\n",
      "Epoch 12 completed. Train loss is 0.628\n",
      "Epoch 13 completed. Train loss is 0.621\n",
      "Epoch 14 completed. Train loss is 0.612\n",
      "Epoch 15 completed. Train loss is 0.604\n",
      "Epoch 16 completed. Train loss is 0.598\n",
      "Epoch 17 completed. Train loss is 0.590\n",
      "Epoch 18 completed. Train loss is 0.582\n",
      "Epoch 19 completed. Train loss is 0.575\n",
      "Epoch 20 completed. Train loss is 0.566\n",
      "Time taken to completed 20 epochs: 1.03 minutes\n"
     ]
    }
   ],
   "source": [
    "num_epochs = 20\n",
    "time_start = time.time()\n",
    "\n",
    "for epoch in range(num_epochs):\n",
    "    model_pytorch.train()\n",
    "    \n",
    "    train_loss_total = 0\n",
    "    \n",
    "    for data, target in train_loader:\n",
    "        data, target = data.to(device), target.float().to(device)\n",
    "        optimizer.zero_grad()\n",
    "        output = model_pytorch(data)\n",
    "        train_loss = criterion(output, target)\n",
    "        train_loss.backward()\n",
    "        optimizer.step()\n",
    "        train_loss_total += train_loss.item() * data.size(0)\n",
    "        \n",
    "    print('Epoch {} completed. Train loss is {:.3f}'.format(epoch + 1, train_loss_total / train_size))\n",
    "print('Time taken to completed {} epochs: {:.2f} minutes'.format(num_epochs, (time.time() - time_start) / 60))"
   ]
  },
  {
   "cell_type": "markdown",
   "metadata": {},
   "source": [
    "Evaluate model"
   ]
  },
  {
   "cell_type": "code",
   "execution_count": 10,
   "metadata": {},
   "outputs": [
    {
     "name": "stdout",
     "output_type": "stream",
     "text": [
      "Evaluation completed. Test loss is 0.000\n",
      "Test accuracy is 0.513\n",
      "Time taken to complete evaluation: 0.01 minutes\n"
     ]
    }
   ],
   "source": [
    "model_pytorch.eval()\n",
    "\n",
    "test_loss_total = 0\n",
    "total_num_corrects = 0\n",
    "threshold = 0.5\n",
    "time_start = time.time()\n",
    "\n",
    "for data, target in test_loader:\n",
    "    data, target = data.to(device), target.float().to(device)\n",
    "    optimizer.zero_grad()\n",
    "    output = model_pytorch(data)\n",
    "    train_loss = criterion(output, target)\n",
    "    train_loss.backward()\n",
    "    optimizer.step()\n",
    "    train_loss_total += train_loss.item() * data.size(0)\n",
    "    \n",
    "    pred = (output >= threshold).view_as(target)  # to make pred have same shape as target\n",
    "    num_correct = torch.sum(pred == target.byte()).item()\n",
    "    total_num_corrects += num_correct\n",
    "\n",
    "print('Evaluation completed. Test loss is {:.3f}'.format(test_loss_total / test_size))\n",
    "print('Test accuracy is {:.3f}'.format(total_num_corrects / test_size))\n",
    "print('Time taken to complete evaluation: {:.2f} minutes'.format((time.time() - time_start) / 60))"
   ]
  },
  {
   "cell_type": "markdown",
   "metadata": {},
   "source": [
    "## Convert Model to ONNX Format"
   ]
  },
  {
   "cell_type": "markdown",
   "metadata": {},
   "source": [
    "Save model weights in PyTorch format"
   ]
  },
  {
   "cell_type": "code",
   "execution_count": 11,
   "metadata": {},
   "outputs": [],
   "source": [
    "if not os.path.exists('./models/'):\n",
    "    os.mkdir('./models/')\n",
    "\n",
    "torch.save(model_pytorch.state_dict(), './models/model_simple.pt')"
   ]
  },
  {
   "cell_type": "markdown",
   "metadata": {},
   "source": [
    "Load model from `.pt` file and export to ONNX format"
   ]
  },
  {
   "cell_type": "code",
   "execution_count": 12,
   "metadata": {},
   "outputs": [
    {
     "name": "stdout",
     "output_type": "stream",
     "text": [
      "tensor([[0.5444]], grad_fn=<SigmoidBackward>)\n"
     ]
    }
   ],
   "source": [
    "model_pytorch = SimpleModel(input_size=input_size, hidden_sizes=hidden_sizes, output_size=output_size)\n",
    "model_pytorch.load_state_dict(torch.load('./models/model_simple.pt'))\n",
    "\n",
    "# Single pass of dummy variable required\n",
    "dummy_input = torch.from_numpy(X_test[0].reshape(1, -1)).float().to(device)\n",
    "dummy_output = model_pytorch(dummy_input)\n",
    "print(dummy_output)\n",
    "\n",
    "# Export to ONNX format\n",
    "torch.onnx.export(model_pytorch, dummy_input, './models/model_simple.onnx', input_names=['test_input'],\n",
    "                  output_names=['test_output'])"
   ]
  },
  {
   "cell_type": "markdown",
   "metadata": {},
   "source": [
    "## Convert Model to TensorFlow Format"
   ]
  },
  {
   "cell_type": "markdown",
   "metadata": {},
   "source": [
    "Load ONNX model and convert to TensorFlow format"
   ]
  },
  {
   "cell_type": "code",
   "execution_count": 13,
   "metadata": {},
   "outputs": [
    {
     "name": "stderr",
     "output_type": "stream",
     "text": [
      "c:\\users\\thefo\\documents\\git_repos\\pytorch2tf\\pytorch2tf-env\\lib\\site-packages\\onnx_tf\\common\\handler_helper.py:37: UserWarning: Unknown op ConstantFill in domain `ai.onnx`.\n",
      "  handler.ONNX_OP, handler.DOMAIN or \"ai.onnx\"))\n",
      "c:\\users\\thefo\\documents\\git_repos\\pytorch2tf\\pytorch2tf-env\\lib\\site-packages\\onnx_tf\\common\\handler_helper.py:34: UserWarning: Fail to get since_version of ConvInteger in domain `` with max_inclusive_version=9. Set to 1.\n",
      "  handler.ONNX_OP, handler.DOMAIN, version))\n",
      "c:\\users\\thefo\\documents\\git_repos\\pytorch2tf\\pytorch2tf-env\\lib\\site-packages\\onnx_tf\\common\\handler_helper.py:34: UserWarning: Fail to get since_version of DequantizeLinear in domain `` with max_inclusive_version=9. Set to 1.\n",
      "  handler.ONNX_OP, handler.DOMAIN, version))\n",
      "c:\\users\\thefo\\documents\\git_repos\\pytorch2tf\\pytorch2tf-env\\lib\\site-packages\\onnx_tf\\common\\handler_helper.py:34: UserWarning: Fail to get since_version of GatherND in domain `` with max_inclusive_version=9. Set to 1.\n",
      "  handler.ONNX_OP, handler.DOMAIN, version))\n",
      "c:\\users\\thefo\\documents\\git_repos\\pytorch2tf\\pytorch2tf-env\\lib\\site-packages\\onnx_tf\\common\\handler_helper.py:37: UserWarning: Unknown op ImageScaler in domain `ai.onnx`.\n",
      "  handler.ONNX_OP, handler.DOMAIN or \"ai.onnx\"))\n",
      "c:\\users\\thefo\\documents\\git_repos\\pytorch2tf\\pytorch2tf-env\\lib\\site-packages\\onnx_tf\\common\\handler_helper.py:34: UserWarning: Fail to get since_version of IsInf in domain `` with max_inclusive_version=9. Set to 1.\n",
      "  handler.ONNX_OP, handler.DOMAIN, version))\n",
      "c:\\users\\thefo\\documents\\git_repos\\pytorch2tf\\pytorch2tf-env\\lib\\site-packages\\onnx_tf\\common\\handler_helper.py:34: UserWarning: Fail to get since_version of MatMulInteger in domain `` with max_inclusive_version=9. Set to 1.\n",
      "  handler.ONNX_OP, handler.DOMAIN, version))\n",
      "c:\\users\\thefo\\documents\\git_repos\\pytorch2tf\\pytorch2tf-env\\lib\\site-packages\\onnx_tf\\common\\handler_helper.py:34: UserWarning: Fail to get since_version of Mod in domain `` with max_inclusive_version=9. Set to 1.\n",
      "  handler.ONNX_OP, handler.DOMAIN, version))\n",
      "c:\\users\\thefo\\documents\\git_repos\\pytorch2tf\\pytorch2tf-env\\lib\\site-packages\\onnx_tf\\common\\handler_helper.py:34: UserWarning: Fail to get since_version of NonMaxSuppression in domain `` with max_inclusive_version=9. Set to 1.\n",
      "  handler.ONNX_OP, handler.DOMAIN, version))\n",
      "c:\\users\\thefo\\documents\\git_repos\\pytorch2tf\\pytorch2tf-env\\lib\\site-packages\\onnx_tf\\common\\handler_helper.py:34: UserWarning: Fail to get since_version of QLinearConv in domain `` with max_inclusive_version=9. Set to 1.\n",
      "  handler.ONNX_OP, handler.DOMAIN, version))\n",
      "c:\\users\\thefo\\documents\\git_repos\\pytorch2tf\\pytorch2tf-env\\lib\\site-packages\\onnx_tf\\common\\handler_helper.py:34: UserWarning: Fail to get since_version of QLinearMatMul in domain `` with max_inclusive_version=9. Set to 1.\n",
      "  handler.ONNX_OP, handler.DOMAIN, version))\n",
      "c:\\users\\thefo\\documents\\git_repos\\pytorch2tf\\pytorch2tf-env\\lib\\site-packages\\onnx_tf\\common\\handler_helper.py:34: UserWarning: Fail to get since_version of QuantizeLinear in domain `` with max_inclusive_version=9. Set to 1.\n",
      "  handler.ONNX_OP, handler.DOMAIN, version))\n",
      "c:\\users\\thefo\\documents\\git_repos\\pytorch2tf\\pytorch2tf-env\\lib\\site-packages\\onnx_tf\\common\\handler_helper.py:34: UserWarning: Fail to get since_version of Range in domain `` with max_inclusive_version=9. Set to 1.\n",
      "  handler.ONNX_OP, handler.DOMAIN, version))\n",
      "c:\\users\\thefo\\documents\\git_repos\\pytorch2tf\\pytorch2tf-env\\lib\\site-packages\\onnx_tf\\common\\handler_helper.py:34: UserWarning: Fail to get since_version of Resize in domain `` with max_inclusive_version=9. Set to 1.\n",
      "  handler.ONNX_OP, handler.DOMAIN, version))\n",
      "c:\\users\\thefo\\documents\\git_repos\\pytorch2tf\\pytorch2tf-env\\lib\\site-packages\\onnx_tf\\common\\handler_helper.py:34: UserWarning: Fail to get since_version of ReverseSequence in domain `` with max_inclusive_version=9. Set to 1.\n",
      "  handler.ONNX_OP, handler.DOMAIN, version))\n",
      "c:\\users\\thefo\\documents\\git_repos\\pytorch2tf\\pytorch2tf-env\\lib\\site-packages\\onnx_tf\\common\\handler_helper.py:34: UserWarning: Fail to get since_version of Round in domain `` with max_inclusive_version=9. Set to 1.\n",
      "  handler.ONNX_OP, handler.DOMAIN, version))\n",
      "c:\\users\\thefo\\documents\\git_repos\\pytorch2tf\\pytorch2tf-env\\lib\\site-packages\\onnx_tf\\common\\handler_helper.py:34: UserWarning: Fail to get since_version of ScatterElements in domain `` with max_inclusive_version=9. Set to 1.\n",
      "  handler.ONNX_OP, handler.DOMAIN, version))\n",
      "c:\\users\\thefo\\documents\\git_repos\\pytorch2tf\\pytorch2tf-env\\lib\\site-packages\\onnx_tf\\common\\handler_helper.py:34: UserWarning: Fail to get since_version of ScatterND in domain `` with max_inclusive_version=9. Set to 1.\n",
      "  handler.ONNX_OP, handler.DOMAIN, version))\n",
      "c:\\users\\thefo\\documents\\git_repos\\pytorch2tf\\pytorch2tf-env\\lib\\site-packages\\onnx_tf\\common\\handler_helper.py:34: UserWarning: Fail to get since_version of ThresholdedRelu in domain `` with max_inclusive_version=9. Set to 1.\n",
      "  handler.ONNX_OP, handler.DOMAIN, version))\n"
     ]
    },
    {
     "name": "stdout",
     "output_type": "stream",
     "text": [
      "WARNING:tensorflow:From c:\\users\\thefo\\documents\\git_repos\\pytorch2tf\\pytorch2tf-env\\lib\\site-packages\\onnx_tf\\backend.py:123: The name tf.placeholder is deprecated. Please use tf.compat.v1.placeholder instead.\n",
      "\n",
      "WARNING:tensorflow:From c:\\users\\thefo\\documents\\git_repos\\pytorch2tf\\pytorch2tf-env\\lib\\site-packages\\onnx_tf\\handlers\\backend\\gemm.py:14: flatten (from tensorflow.python.layers.core) is deprecated and will be removed in a future version.\n",
      "Instructions for updating:\n",
      "Use keras.layers.flatten instead.\n",
      "WARNING:tensorflow:From c:\\users\\thefo\\documents\\git_repos\\pytorch2tf\\pytorch2tf-env\\lib\\site-packages\\tensorflow_core\\python\\layers\\core.py:332: Layer.apply (from tensorflow.python.keras.engine.base_layer) is deprecated and will be removed in a future version.\n",
      "Instructions for updating:\n",
      "Please use `layer.__call__` method instead.\n"
     ]
    }
   ],
   "source": [
    "model_onnx = onnx.load('./models/model_simple.onnx')\n",
    "\n",
    "tf_rep = prepare(model_onnx)"
   ]
  },
  {
   "cell_type": "markdown",
   "metadata": {},
   "source": [
    "Export model as `.pb` file"
   ]
  },
  {
   "cell_type": "code",
   "execution_count": 14,
   "metadata": {},
   "outputs": [],
   "source": [
    "tf_rep.export_graph('./models/model_simple.pb')"
   ]
  },
  {
   "cell_type": "markdown",
   "metadata": {},
   "source": [
    "## Do Inference in TensorFlow"
   ]
  },
  {
   "cell_type": "markdown",
   "metadata": {},
   "source": [
    "Define function to load `.pb` file"
   ]
  },
  {
   "cell_type": "code",
   "execution_count": 15,
   "metadata": {},
   "outputs": [],
   "source": [
    "def load_pb(path_to_pb):\n",
    "    with tf.gfile.GFile(path_to_pb, 'rb') as f:\n",
    "        graph_def = tf.GraphDef()\n",
    "        graph_def.ParseFromString(f.read())\n",
    "    with tf.Graph().as_default() as graph:\n",
    "        tf.import_graph_def(graph_def, name='')\n",
    "        return graph"
   ]
  },
  {
   "cell_type": "markdown",
   "metadata": {},
   "source": [
    "Load graph, initialize session and do inference using the same dummy input above"
   ]
  },
  {
   "cell_type": "code",
   "execution_count": 16,
   "metadata": {},
   "outputs": [
    {
     "name": "stdout",
     "output_type": "stream",
     "text": [
      "(<tf.Tensor 'Const:0' shape=(50,) dtype=float32>,)\n",
      "(<tf.Tensor 'Const_1:0' shape=(50, 20) dtype=float32>,)\n",
      "(<tf.Tensor 'Const_2:0' shape=(50,) dtype=float32>,)\n",
      "(<tf.Tensor 'Const_3:0' shape=(50, 50) dtype=float32>,)\n",
      "(<tf.Tensor 'Const_4:0' shape=(1,) dtype=float32>,)\n",
      "(<tf.Tensor 'Const_5:0' shape=(1, 50) dtype=float32>,)\n",
      "(<tf.Tensor 'test_input:0' shape=(1, 20) dtype=float32>,)\n",
      "(<tf.Tensor 'flatten/Reshape/shape:0' shape=(2,) dtype=int32>,)\n",
      "(<tf.Tensor 'flatten/Reshape:0' shape=(1, 20) dtype=float32>,)\n",
      "(<tf.Tensor 'transpose/perm:0' shape=(2,) dtype=int32>,)\n",
      "(<tf.Tensor 'transpose:0' shape=(20, 50) dtype=float32>,)\n",
      "(<tf.Tensor 'MatMul:0' shape=(1, 50) dtype=float32>,)\n",
      "(<tf.Tensor 'mul/x:0' shape=() dtype=float32>,)\n",
      "(<tf.Tensor 'mul:0' shape=(1, 50) dtype=float32>,)\n",
      "(<tf.Tensor 'mul_1/x:0' shape=() dtype=float32>,)\n",
      "(<tf.Tensor 'mul_1:0' shape=(50,) dtype=float32>,)\n",
      "(<tf.Tensor 'add:0' shape=(1, 50) dtype=float32>,)\n",
      "(<tf.Tensor 'Relu:0' shape=(1, 50) dtype=float32>,)\n",
      "(<tf.Tensor 'flatten_1/Reshape/shape:0' shape=(2,) dtype=int32>,)\n",
      "(<tf.Tensor 'flatten_1/Reshape:0' shape=(1, 50) dtype=float32>,)\n",
      "(<tf.Tensor 'transpose_1/perm:0' shape=(2,) dtype=int32>,)\n",
      "(<tf.Tensor 'transpose_1:0' shape=(50, 50) dtype=float32>,)\n",
      "(<tf.Tensor 'MatMul_1:0' shape=(1, 50) dtype=float32>,)\n",
      "(<tf.Tensor 'mul_2/x:0' shape=() dtype=float32>,)\n",
      "(<tf.Tensor 'mul_2:0' shape=(1, 50) dtype=float32>,)\n",
      "(<tf.Tensor 'mul_3/x:0' shape=() dtype=float32>,)\n",
      "(<tf.Tensor 'mul_3:0' shape=(50,) dtype=float32>,)\n",
      "(<tf.Tensor 'add_1:0' shape=(1, 50) dtype=float32>,)\n",
      "(<tf.Tensor 'Relu_1:0' shape=(1, 50) dtype=float32>,)\n",
      "(<tf.Tensor 'flatten_2/Reshape/shape:0' shape=(2,) dtype=int32>,)\n",
      "(<tf.Tensor 'flatten_2/Reshape:0' shape=(1, 50) dtype=float32>,)\n",
      "(<tf.Tensor 'transpose_2/perm:0' shape=(2,) dtype=int32>,)\n",
      "(<tf.Tensor 'transpose_2:0' shape=(50, 1) dtype=float32>,)\n",
      "(<tf.Tensor 'MatMul_2:0' shape=(1, 1) dtype=float32>,)\n",
      "(<tf.Tensor 'mul_4/x:0' shape=() dtype=float32>,)\n",
      "(<tf.Tensor 'mul_4:0' shape=(1, 1) dtype=float32>,)\n",
      "(<tf.Tensor 'mul_5/x:0' shape=() dtype=float32>,)\n",
      "(<tf.Tensor 'mul_5:0' shape=(1,) dtype=float32>,)\n",
      "(<tf.Tensor 'add_2:0' shape=(1, 1) dtype=float32>,)\n",
      "(<tf.Tensor 'test_output:0' shape=(1, 1) dtype=float32>,)\n"
     ]
    }
   ],
   "source": [
    "tf_graph = load_pb('./models/model_simple.pb')\n",
    "sess = tf.Session(graph=tf_graph)\n",
    "\n",
    "# Show tensor names in graph\n",
    "for op in tf_graph.get_operations():\n",
    "    print(op.values())"
   ]
  },
  {
   "cell_type": "code",
   "execution_count": 17,
   "metadata": {},
   "outputs": [
    {
     "name": "stdout",
     "output_type": "stream",
     "text": [
      "[[0.5444457]]\n"
     ]
    }
   ],
   "source": [
    "output_tensor = tf_graph.get_tensor_by_name('test_output:0')\n",
    "input_tensor = tf_graph.get_tensor_by_name('test_input:0')\n",
    "\n",
    "output = sess.run(output_tensor, feed_dict={input_tensor: dummy_input})\n",
    "print(output)"
   ]
  },
  {
   "cell_type": "code",
   "execution_count": null,
   "metadata": {},
   "outputs": [],
   "source": []
  }
 ],
 "metadata": {
  "kernelspec": {
   "display_name": "Python 3",
   "language": "python",
   "name": "python3"
  },
  "language_info": {
   "codemirror_mode": {
    "name": "ipython",
    "version": 3
   },
   "file_extension": ".py",
   "mimetype": "text/x-python",
   "name": "python",
   "nbconvert_exporter": "python",
   "pygments_lexer": "ipython3",
   "version": "3.6.8"
  }
 },
 "nbformat": 4,
 "nbformat_minor": 2
}
